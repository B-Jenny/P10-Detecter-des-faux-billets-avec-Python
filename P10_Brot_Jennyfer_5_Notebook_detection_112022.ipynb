{
 "cells": [
  {
   "cell_type": "markdown",
   "id": "0c10506d",
   "metadata": {},
   "source": [
    "\n",
    "<div>\n",
    "    <div style=\"background-color : pink\">\n",
    "    <h1 style=\"margin: auto; padding: 30px;color: #fff\">\n",
    "            Projet 10 - Détecter des faux billets  \n",
    "        </h1>\n",
    "    </div> \n",
    "    "
   ]
  },
  {
   "cell_type": "markdown",
   "id": "ad8b279d",
   "metadata": {},
   "source": [
    "<div>\n",
    "    <div style=\"background-color : fff\">\n",
    "    <h1 style=\"text-align: center; padding: 30px;color: pink\">\n",
    "            Détection\n",
    "        </h1>\n",
    "    </div> "
   ]
  },
  {
   "cell_type": "markdown",
   "id": "8a1e1763",
   "metadata": {},
   "source": [
    "<div>\n",
    "    <h3 style=\"margin: auto; padding: 10px; color: pink;margin-left: 4.5em; text-indent: -4.5em\">Ce programme est organisé en plusieurs partie :\n",
    "        </h3>\n",
    "        <div style=\"margin: auto;padding-left: 40px;padding-bottom: 20px;margin-left: 4.5em; text-indent: -4.5em\">\n",
    "            <lu>\n",
    "                <li><a href=\"#partie1\">Partie 1</a> : Importation des librairies</li>\n",
    "                <li><a href=\"#partie2\">Partie 2</a> : Chargement du modèle Régression Logistique</li>\n",
    "                <li><a href=\"#partie3\">Partie 3</a> : Chargement du fichier \"billets_production.csv\" et la détection des billets Faux</li>\n",
    "                <li><a href=\"#partie4\">Partie 4</a> : Détection des billets Faux</li>\n",
    "                <li><a href=\"#Conclusion\">Conclusion</a></li>\n",
    "        </lu>\n",
    "        </div>\n",
    "    </div>\n",
    "</div>"
   ]
  },
  {
   "cell_type": "markdown",
   "id": "919d954e",
   "metadata": {},
   "source": [
    "\n",
    "\n",
    "---\n",
    "## <font color=pink> Lexique des données </font>\n",
    "\n",
    "<font> - Dimensions exprimées en mm </font>\n",
    " \n",
    "* is_genuine : Indique si le billet est vrai (True) ou faux (False)\n",
    "* diagonal : la diagonale du billet \n",
    "* height_left : la hauteur côté gauche du billet \n",
    "* height_right : La hauteur côté droit du billet \n",
    "* margin_low : la marge entre le bord inférieur du billet et l'image de celui-ci \n",
    "* margin_up : la marge entre le bord supérieur du billet et l'image de celui-ci\n",
    "* length : la longueur du billet "
   ]
  },
  {
   "cell_type": "markdown",
   "id": "43dbbd5d",
   "metadata": {},
   "source": [
    "---\n",
    "<div>\n",
    "    <div style=\"background-color: pink;\" id=\"partie1\">\n",
    "        <h2 style=\"margin: auto; padding: 20px; color:#fff;margin-left: 4.5em; text-indent: -4.5em\">\n",
    "            Partie 1 - Importation des librairies \n",
    "        </h2>\n",
    "        <font size=\"-0\"><a href=\"#partie0\">  🔝  </a></font>\n",
    "    </div>\n",
    "</div>                                                            "
   ]
  },
  {
   "cell_type": "code",
   "execution_count": 1,
   "id": "fe49ed90",
   "metadata": {},
   "outputs": [],
   "source": [
    "# Importation des librairies\n",
    "import pandas as pd\n",
    "import numpy as np\n",
    "import seaborn as sns\n",
    "import matplotlib.pyplot as plt\n",
    "import statsmodels.formula.api as smf\n",
    "import statsmodels.api as sm\n",
    "from sklearn.linear_model import LogisticRegression\n"
   ]
  },
  {
   "cell_type": "markdown",
   "id": "2e26af3b",
   "metadata": {},
   "source": [
    "---\n",
    "<div>\n",
    "    <div style=\"background-color: pink;\" id=\"partie2\">\n",
    "        <h2 style=\"margin: auto; padding: 20px; color:#fff;margin-left: 4.5em; text-indent: -4.5em\">\n",
    "            Partie 2 - Chargement du modèle Régression Logistique \n",
    "        </h2>\n",
    "        <font size=\"-0\"><a href=\"#partie0\">  🔝  </a></font>\n",
    "    </div>\n",
    "</div>   "
   ]
  },
  {
   "cell_type": "code",
   "execution_count": 2,
   "id": "affc09c8",
   "metadata": {},
   "outputs": [],
   "source": [
    "import pickle\n",
    "filename = \"finalized_model.pickle\"\n",
    "# Chargement du modèle à partir du disque\n",
    "logreg = pickle.load(open(filename, \"rb\"))\n"
   ]
  },
  {
   "cell_type": "markdown",
   "id": "ed0659da",
   "metadata": {},
   "source": [
    "---\n",
    "<div>\n",
    "    <div style=\"background-color: pink;\" id=\"partie3\">\n",
    "        <h2 style=\"margin: auto; padding: 20px; color:#fff;margin-left: 4.5em; text-indent: -4.5em\">\n",
    "            Partie 3 - Chargement du fichier \"billets_production.csv\" \n",
    "        </h2>\n",
    "        <font size=\"-0\"><a href=\"#partie0\">  🔝  </a></font>\n",
    "    </div>\n",
    "</div> "
   ]
  },
  {
   "cell_type": "code",
   "execution_count": 3,
   "id": "23eebbe5",
   "metadata": {},
   "outputs": [
    {
     "name": "stdout",
     "output_type": "stream",
     "text": [
      "/Users/jenny\n",
      "/Users/jenny/Downloads\n"
     ]
    }
   ],
   "source": [
    "\n",
    "from pathlib import Path\n",
    "from tkinter import *\n",
    "from tkinter import filedialog\n",
    "from tkinter import messagebox\n",
    "\n",
    "home_path = str(Path.home()).replace(\"\\\\\", \"/\")\n",
    "print(home_path)\n",
    "Downloads_path = home_path + '/Downloads'\n",
    "print(Downloads_path)\n",
    "\n",
    "# Sélection du fichier\n",
    "root = Tk() \n",
    "root.filename = filedialog.askopenfilename(initialdir = Downloads_path,\n",
    "                                           title = \"Sélectionnez le fichier\",\n",
    "                                           filetypes = ((\"Fichiers CSV\",\"*.csv\"),(\"all files\",\"*.*\"))) \n",
    "root.withdraw()\n",
    "\n",
    "Df_billets_production = pd.read_csv(root.filename, sep=\",\", decimal=\".\", header=0)"
   ]
  },
  {
   "cell_type": "code",
   "execution_count": 4,
   "id": "fa1b990b",
   "metadata": {},
   "outputs": [],
   "source": [
    "# Sélection des variables\n",
    "X_data = Df_billets_production[[\"diagonal\", \"height_left\", \"height_right\", \"margin_low\", \"margin_up\", \"length\"]]\n"
   ]
  },
  {
   "cell_type": "markdown",
   "id": "788351ae",
   "metadata": {},
   "source": [
    "---\n",
    "<div>\n",
    "    <div style=\"background-color: pink;\" id=\"partie4\">\n",
    "        <h2 style=\"margin: auto; padding: 20px; color:#fff;margin-left: 4.5em; text-indent: -4.5em\">\n",
    "            Partie 4 - Détection des billets Faux\n",
    "        </h2>\n",
    "        <font size=\"-0\"><a href=\"#partie0\">  🔝  </a></font>\n",
    "    </div>\n",
    "</div> "
   ]
  },
  {
   "cell_type": "code",
   "execution_count": 5,
   "id": "81764c60",
   "metadata": {},
   "outputs": [
    {
     "data": {
      "text/plain": [
       "array([False, False, False,  True,  True])"
      ]
     },
     "execution_count": 5,
     "metadata": {},
     "output_type": "execute_result"
    }
   ],
   "source": [
    "# Prédictions\n",
    "y_prod = logreg.predict(X_data)\n",
    "y_prod\n"
   ]
  },
  {
   "cell_type": "code",
   "execution_count": 6,
   "id": "bdc30c52",
   "metadata": {},
   "outputs": [],
   "source": [
    "# Création de la colonne \"prédiction\"\n",
    "y_pred_df = pd.DataFrame(data=y_prod, columns=[\"prédiction\"])\n"
   ]
  },
  {
   "cell_type": "code",
   "execution_count": 7,
   "id": "e41e6503",
   "metadata": {},
   "outputs": [
    {
     "data": {
      "text/html": [
       "<div>\n",
       "<style scoped>\n",
       "    .dataframe tbody tr th:only-of-type {\n",
       "        vertical-align: middle;\n",
       "    }\n",
       "\n",
       "    .dataframe tbody tr th {\n",
       "        vertical-align: top;\n",
       "    }\n",
       "\n",
       "    .dataframe thead th {\n",
       "        text-align: right;\n",
       "    }\n",
       "</style>\n",
       "<table border=\"1\" class=\"dataframe\">\n",
       "  <thead>\n",
       "    <tr style=\"text-align: right;\">\n",
       "      <th></th>\n",
       "      <th>diagonal</th>\n",
       "      <th>height_left</th>\n",
       "      <th>height_right</th>\n",
       "      <th>margin_low</th>\n",
       "      <th>margin_up</th>\n",
       "      <th>length</th>\n",
       "      <th>id</th>\n",
       "      <th>prédiction</th>\n",
       "    </tr>\n",
       "  </thead>\n",
       "  <tbody>\n",
       "    <tr>\n",
       "      <th>0</th>\n",
       "      <td>171.76</td>\n",
       "      <td>104.01</td>\n",
       "      <td>103.54</td>\n",
       "      <td>5.21</td>\n",
       "      <td>3.30</td>\n",
       "      <td>111.42</td>\n",
       "      <td>A_1</td>\n",
       "      <td>False</td>\n",
       "    </tr>\n",
       "    <tr>\n",
       "      <th>1</th>\n",
       "      <td>171.87</td>\n",
       "      <td>104.17</td>\n",
       "      <td>104.13</td>\n",
       "      <td>6.00</td>\n",
       "      <td>3.31</td>\n",
       "      <td>112.09</td>\n",
       "      <td>A_2</td>\n",
       "      <td>False</td>\n",
       "    </tr>\n",
       "    <tr>\n",
       "      <th>2</th>\n",
       "      <td>172.00</td>\n",
       "      <td>104.58</td>\n",
       "      <td>104.29</td>\n",
       "      <td>4.99</td>\n",
       "      <td>3.39</td>\n",
       "      <td>111.57</td>\n",
       "      <td>A_3</td>\n",
       "      <td>False</td>\n",
       "    </tr>\n",
       "    <tr>\n",
       "      <th>3</th>\n",
       "      <td>172.49</td>\n",
       "      <td>104.55</td>\n",
       "      <td>104.34</td>\n",
       "      <td>4.44</td>\n",
       "      <td>3.03</td>\n",
       "      <td>113.20</td>\n",
       "      <td>A_4</td>\n",
       "      <td>True</td>\n",
       "    </tr>\n",
       "    <tr>\n",
       "      <th>4</th>\n",
       "      <td>171.65</td>\n",
       "      <td>103.63</td>\n",
       "      <td>103.56</td>\n",
       "      <td>3.77</td>\n",
       "      <td>3.16</td>\n",
       "      <td>113.33</td>\n",
       "      <td>A_5</td>\n",
       "      <td>True</td>\n",
       "    </tr>\n",
       "  </tbody>\n",
       "</table>\n",
       "</div>"
      ],
      "text/plain": [
       "   diagonal  height_left  height_right  margin_low  margin_up  length   id  \\\n",
       "0    171.76       104.01        103.54        5.21       3.30  111.42  A_1   \n",
       "1    171.87       104.17        104.13        6.00       3.31  112.09  A_2   \n",
       "2    172.00       104.58        104.29        4.99       3.39  111.57  A_3   \n",
       "3    172.49       104.55        104.34        4.44       3.03  113.20  A_4   \n",
       "4    171.65       103.63        103.56        3.77       3.16  113.33  A_5   \n",
       "\n",
       "   prédiction  \n",
       "0       False  \n",
       "1       False  \n",
       "2       False  \n",
       "3        True  \n",
       "4        True  "
      ]
     },
     "execution_count": 7,
     "metadata": {},
     "output_type": "execute_result"
    }
   ],
   "source": [
    "# Création d'un dataFrame \"predict_df\", associant \"Df_billets_production\" et \"y_pred_df\"\n",
    "predict_df = pd.concat([Df_billets_production, y_pred_df], axis = 1)\n",
    "predict_df\n"
   ]
  },
  {
   "cell_type": "code",
   "execution_count": 8,
   "id": "14f6e4c4",
   "metadata": {},
   "outputs": [],
   "source": [
    "# Probabilité des prédictions\n",
    "y_pred_proba = logreg.predict_proba(X_data)\n"
   ]
  },
  {
   "cell_type": "code",
   "execution_count": 9,
   "id": "76a44ad5",
   "metadata": {},
   "outputs": [],
   "source": [
    "y_pred_proba_df = pd.DataFrame(data=y_pred_proba, columns=[\"%Faux\", \"%Vrai\"]) \n",
    "y_pred_proba_df[\"%Faux\"] *= 100\n",
    "y_pred_proba_df[\"%Vrai\"] *= 100\n",
    "y_pred_proba_df = y_pred_proba_df.round(3)\n"
   ]
  },
  {
   "cell_type": "code",
   "execution_count": 10,
   "id": "3535c3a3",
   "metadata": {},
   "outputs": [],
   "source": [
    "# Création d'un dataFrame associant \"predict_df\" et \"y_pred_proba_df\"\n",
    "predict_df = pd.concat([predict_df, y_pred_proba_df], axis = 1)\n"
   ]
  },
  {
   "cell_type": "code",
   "execution_count": 11,
   "id": "a126cb81",
   "metadata": {},
   "outputs": [
    {
     "data": {
      "text/html": [
       "<div>\n",
       "<style scoped>\n",
       "    .dataframe tbody tr th:only-of-type {\n",
       "        vertical-align: middle;\n",
       "    }\n",
       "\n",
       "    .dataframe tbody tr th {\n",
       "        vertical-align: top;\n",
       "    }\n",
       "\n",
       "    .dataframe thead th {\n",
       "        text-align: right;\n",
       "    }\n",
       "</style>\n",
       "<table border=\"1\" class=\"dataframe\">\n",
       "  <thead>\n",
       "    <tr style=\"text-align: right;\">\n",
       "      <th></th>\n",
       "      <th>diagonal</th>\n",
       "      <th>height_left</th>\n",
       "      <th>height_right</th>\n",
       "      <th>margin_low</th>\n",
       "      <th>margin_up</th>\n",
       "      <th>length</th>\n",
       "      <th>id</th>\n",
       "      <th>prédiction</th>\n",
       "      <th>%Faux</th>\n",
       "      <th>%Vrai</th>\n",
       "    </tr>\n",
       "  </thead>\n",
       "  <tbody>\n",
       "    <tr>\n",
       "      <th>0</th>\n",
       "      <td>171.76</td>\n",
       "      <td>104.01</td>\n",
       "      <td>103.54</td>\n",
       "      <td>5.21</td>\n",
       "      <td>3.30</td>\n",
       "      <td>111.42</td>\n",
       "      <td>A_1</td>\n",
       "      <td>False</td>\n",
       "      <td>99.473</td>\n",
       "      <td>0.527</td>\n",
       "    </tr>\n",
       "    <tr>\n",
       "      <th>1</th>\n",
       "      <td>171.87</td>\n",
       "      <td>104.17</td>\n",
       "      <td>104.13</td>\n",
       "      <td>6.00</td>\n",
       "      <td>3.31</td>\n",
       "      <td>112.09</td>\n",
       "      <td>A_2</td>\n",
       "      <td>False</td>\n",
       "      <td>99.905</td>\n",
       "      <td>0.095</td>\n",
       "    </tr>\n",
       "    <tr>\n",
       "      <th>2</th>\n",
       "      <td>172.00</td>\n",
       "      <td>104.58</td>\n",
       "      <td>104.29</td>\n",
       "      <td>4.99</td>\n",
       "      <td>3.39</td>\n",
       "      <td>111.57</td>\n",
       "      <td>A_3</td>\n",
       "      <td>False</td>\n",
       "      <td>99.854</td>\n",
       "      <td>0.146</td>\n",
       "    </tr>\n",
       "    <tr>\n",
       "      <th>3</th>\n",
       "      <td>172.49</td>\n",
       "      <td>104.55</td>\n",
       "      <td>104.34</td>\n",
       "      <td>4.44</td>\n",
       "      <td>3.03</td>\n",
       "      <td>113.20</td>\n",
       "      <td>A_4</td>\n",
       "      <td>True</td>\n",
       "      <td>8.406</td>\n",
       "      <td>91.594</td>\n",
       "    </tr>\n",
       "    <tr>\n",
       "      <th>4</th>\n",
       "      <td>171.65</td>\n",
       "      <td>103.63</td>\n",
       "      <td>103.56</td>\n",
       "      <td>3.77</td>\n",
       "      <td>3.16</td>\n",
       "      <td>113.33</td>\n",
       "      <td>A_5</td>\n",
       "      <td>True</td>\n",
       "      <td>0.035</td>\n",
       "      <td>99.965</td>\n",
       "    </tr>\n",
       "  </tbody>\n",
       "</table>\n",
       "</div>"
      ],
      "text/plain": [
       "   diagonal  height_left  height_right  margin_low  margin_up  length   id  \\\n",
       "0    171.76       104.01        103.54        5.21       3.30  111.42  A_1   \n",
       "1    171.87       104.17        104.13        6.00       3.31  112.09  A_2   \n",
       "2    172.00       104.58        104.29        4.99       3.39  111.57  A_3   \n",
       "3    172.49       104.55        104.34        4.44       3.03  113.20  A_4   \n",
       "4    171.65       103.63        103.56        3.77       3.16  113.33  A_5   \n",
       "\n",
       "   prédiction   %Faux   %Vrai  \n",
       "0       False  99.473   0.527  \n",
       "1       False  99.905   0.095  \n",
       "2       False  99.854   0.146  \n",
       "3        True   8.406  91.594  \n",
       "4        True   0.035  99.965  "
      ]
     },
     "execution_count": 11,
     "metadata": {},
     "output_type": "execute_result"
    }
   ],
   "source": [
    "# Change le type des données de la colonne \"prédiction\" en type booléen\n",
    "predict_df[\"prédiction\"] = predict_df[\"prédiction\"].astype(bool)\n",
    "predict_df\n"
   ]
  },
  {
   "cell_type": "markdown",
   "id": "e62f6060",
   "metadata": {},
   "source": [
    "---\n",
    "<div>\n",
    "    <div style=\"background-color: pink;\" id=\"Conclusion\">\n",
    "        <h2 style=\"margin: auto; padding: 20px; color:#fff;margin-left: 4.5em; text-indent: -4.5em\">\n",
    "             Conclusion\n",
    "        </h2>\n",
    "        <font size=\"-0\"><a href=\"#partie0\">  🔝  </a></font>\n",
    "    </div>\n",
    "</div> "
   ]
  },
  {
   "cell_type": "markdown",
   "id": "4fe89448",
   "metadata": {},
   "source": [
    "### L'algorithme nous révèle que le fichier billets_production.csv contient 2 billets vrais et 3 billets faux, les probabilités des prédictions sont fiables et se situent entre 98% et plus de 99%."
   ]
  }
 ],
 "metadata": {
  "kernelspec": {
   "display_name": "Python 3 (ipykernel)",
   "language": "python",
   "name": "python3"
  },
  "language_info": {
   "codemirror_mode": {
    "name": "ipython",
    "version": 3
   },
   "file_extension": ".py",
   "mimetype": "text/x-python",
   "name": "python",
   "nbconvert_exporter": "python",
   "pygments_lexer": "ipython3",
   "version": "3.9.12"
  }
 },
 "nbformat": 4,
 "nbformat_minor": 5
}
