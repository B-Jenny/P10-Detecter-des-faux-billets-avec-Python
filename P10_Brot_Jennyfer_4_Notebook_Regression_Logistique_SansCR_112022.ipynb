{
 "cells": [
  {
   "cell_type": "markdown",
   "id": "90b0b039",
   "metadata": {},
   "source": [
    "\n",
    "<div>\n",
    "    <div style=\"background-color : pink\">\n",
    "    <h1 style=\"margin: auto; padding: 30px;color: #fff\">\n",
    "            Projet 10 - Détecter des faux billets  \n",
    "        </h1>\n",
    "    </div> \n",
    "    "
   ]
  },
  {
   "cell_type": "markdown",
   "id": "8a96f92c",
   "metadata": {},
   "source": [
    "<div>\n",
    "    <div style=\"background-color : fff\">\n",
    "    <h1 style=\"text-align: center; padding: 30px;color: pink\">\n",
    "            Régression Logistique sans données centrées réduites \n",
    "        </h1>\n",
    "    </div> "
   ]
  },
  {
   "cell_type": "markdown",
   "id": "18aab19f",
   "metadata": {},
   "source": [
    "<div>\n",
    "    <h3 style=\"margin: auto; padding: 10px; color: pink;margin-left: 4.5em; text-indent: -4.5em\">Ce programme est organisé en plusieurs partie :\n",
    "        </h3>\n",
    "        <div style=\"margin: auto;padding-left: 40px;padding-bottom: 20px;margin-left: 4.5em; text-indent: -4.5em\">\n",
    "            <lu>\n",
    "                <li><a href=\"#partie1\">Partie 1</a> : Librairies et fonction</li>\n",
    "                <li><i> 1.1 - Importation des librairies</i></li>\n",
    "                <li><i> 1.2 - Définition d'une fonction</i></li>\n",
    "                <li><a href=\"#partie2\">Partie 2</a> : Importation et visualisation des données </li>\n",
    "                <li><i> 2.1 - Importation du DataFrame</i></li>\n",
    "                <li><i> 2.2 - Initialisation du DataFrame</i></li>\n",
    "                <li><a href=\"#partie3\">Partie 3</a> : Régression Logistique avec la librairie Statsmodels</li>\n",
    "                <li><a href=\"#partie4\">Partie 4</a> : Régression Logistique avec la librairie Sklearn</li>\n",
    "                <li><i> 4.1 - Train Test Split</i></li>\n",
    "                <li><i> 4.2 - Matrice de confusion</i></li>\n",
    "                <li><i> 4.3 - Test d'accuracy</i></li>\n",
    "                <li><a href=\"#partie5\">Partie 5</a> : Courbe ROC</li>\n",
    "                <li><a href=\"#Sauvegarde\">Sauvegarde</a></li>\n",
    "                <li><a href=\"#Conclusion\">Conclusion</a></li>\n",
    "        </lu>\n",
    "        </div>\n",
    "    </div>\n",
    "</div>"
   ]
  },
  {
   "cell_type": "markdown",
   "id": "8f2bd301",
   "metadata": {},
   "source": [
    "\n",
    "\n",
    "---\n",
    "## <font color=pink> Lexique des données </font>\n",
    "\n",
    "<font> - Dimensions exprimées en mm </font>\n",
    " \n",
    "* is_genuine : Indique si le billet est vrai (True) ou faux (False)\n",
    "* diagonal : la diagonale du billet \n",
    "* height_left : la hauteur côté gauche du billet \n",
    "* height_right : La hauteur côté droit du billet \n",
    "* margin_low : la marge entre le bord inférieur du billet et l'image de celui-ci \n",
    "* margin_up : la marge entre le bord supérieur du billet et l'image de celui-ci\n",
    "* length : la longueur du billet "
   ]
  },
  {
   "cell_type": "markdown",
   "id": "3430c9b7",
   "metadata": {},
   "source": [
    "---\n",
    "<div>\n",
    "    <div style=\"background-color: pink;\" id=\"partie1\">\n",
    "        <h2 style=\"margin: auto; padding: 20px; color: #fff; margin-left: 4.5em; text-indent: -4.5em\">\n",
    "            Partie 1 - Librairies et fonctions\n",
    "        </h2>\n",
    "        <lu>\n",
    "                <li><i> 1.1 - Importation des librairies</i></li>\n",
    "                <li><i> 1.2 - Définition d'une fonction</i></li>\n",
    "            <lu>\n",
    "                <div>\n",
    "                    <div>\n",
    "                        <div>                                                                   "
   ]
  },
  {
   "cell_type": "markdown",
   "id": "3da44033",
   "metadata": {},
   "source": [
    "<div>\n",
    "<h3 style=\"margin: auto; padding: 10px;color: pink\">\n",
    "            1.1 - Importation des librairies \n",
    "        </h3>\n",
    "    </div>"
   ]
  },
  {
   "cell_type": "code",
   "execution_count": 1,
   "id": "31b20569",
   "metadata": {},
   "outputs": [],
   "source": [
    "# Importation des librairies\n",
    "import pandas as pd\n",
    "import numpy as np\n",
    "import seaborn as sns\n",
    "import matplotlib.pyplot as plt\n",
    "import statsmodels.formula.api as smf\n",
    "import statsmodels.api as sm\n",
    "from sklearn.linear_model import LogisticRegression\n",
    "from sklearn.model_selection import train_test_split\n",
    "from sklearn.datasets import make_classification\n",
    "from sklearn.ensemble import RandomForestClassifier\n",
    "from sklearn import metrics\n",
    "from sklearn.metrics import confusion_matrix\n",
    "from sklearn.metrics import precision_score, recall_score, classification_report\n",
    "from sklearn.metrics import accuracy_score\n",
    "from sklearn.metrics import roc_curve"
   ]
  },
  {
   "cell_type": "markdown",
   "id": "f2802782",
   "metadata": {},
   "source": [
    "<div>\n",
    "<h3 style=\"margin: auto; padding: 10px;color: pink\">\n",
    "            1.2 - Déclaration d'une fonction et importation du dataFrame \n",
    "        </h3>\n",
    "    </div>"
   ]
  },
  {
   "cell_type": "code",
   "execution_count": 2,
   "id": "74803b96",
   "metadata": {},
   "outputs": [],
   "source": [
    "# Définition de la fonction \"analyseDataFrame\"\n",
    "def analyseDataFrame(df):\n",
    "    \"\"\"Fonction qui prend en arguments un dataframe pour analyse.\"\"\"\n",
    "\n",
    "    name =[x for x in globals() if globals()[x] is df][0]\n",
    "    print(\"La dimension de DataFrame « \" + name  +\" » : \" + str(df.shape) + \" (lignes, colonnes)\\n\")\n",
    "    display(temp_var = df.info())\n",
    "    display(df.describe().T)\n",
    "    display(df.head(5))\n",
    "    \n",
    "    # Afficher les colonnes qui sont unique dans le DataFrame df\n",
    "    print(\"Test d'unicité sur les colonnes de DataFrame :\")\n",
    "    test_unicite = 0\n",
    "    for col in df.columns :\n",
    "        if df[col].size == df.drop_duplicates(col)[col].size :\n",
    "          display(f'« {col:s} » est unique, et pourrait être une clé primaire.')\n",
    "          test_unicite = 1\n",
    "    if test_unicite == 0 :\n",
    "        print(\"Il n'y a pas d'unicité dans aucune colonne. Il n'y a pas de clé primaire\")\n",
    "\n",
    "    print(\"Compter les nulles pour chaque colonne :\")\n",
    "    display(df.isnull().sum())\n",
    "    \n",
    "    print(\"Compter les duplicates:\")\n",
    "    display(df.duplicated().sum())\n",
    "    "
   ]
  },
  {
   "cell_type": "markdown",
   "id": "3cd0eace",
   "metadata": {},
   "source": [
    "---\n",
    "<div>\n",
    "    <div style=\"background-color: pink;\" id=\"partie2\">\n",
    "        <h2 style=\"margin: auto; padding: 20px; color: #fff; margin-left: 4.5em; text-indent: -4.5em\">\n",
    "            Partie 2 - Importation et visualisation des données\n",
    "        </h2>\n",
    "        <lu>\n",
    "                <li><i> 2.1 - Importation du DataFrame</i></li>\n",
    "                <li><i> 2.2 - Initialisation du DataFrame</i></li>\n",
    "            <lu>\n",
    "                <div>\n",
    "                    <div>\n",
    "                        <div> "
   ]
  },
  {
   "cell_type": "markdown",
   "id": "edbc77ea",
   "metadata": {},
   "source": [
    "<div>\n",
    "<h3 style=\"margin: auto; padding: 10px;color: pink\">\n",
    "            2.1 - Importation du DataFrame \n",
    "        </h3>\n",
    "    </div>"
   ]
  },
  {
   "cell_type": "code",
   "execution_count": 3,
   "id": "c91b359a",
   "metadata": {},
   "outputs": [
    {
     "name": "stdout",
     "output_type": "stream",
     "text": [
      "La dimension de DataFrame « Df_billets » : (1500, 8) (lignes, colonnes)\n",
      "\n",
      "<class 'pandas.core.frame.DataFrame'>\n",
      "RangeIndex: 1500 entries, 0 to 1499\n",
      "Data columns (total 8 columns):\n",
      " #   Column        Non-Null Count  Dtype  \n",
      "---  ------        --------------  -----  \n",
      " 0   Unnamed: 0    1500 non-null   int64  \n",
      " 1   is_genuine    1500 non-null   bool   \n",
      " 2   diagonal      1500 non-null   float64\n",
      " 3   height_left   1500 non-null   float64\n",
      " 4   height_right  1500 non-null   float64\n",
      " 5   margin_low    1500 non-null   float64\n",
      " 6   margin_up     1500 non-null   float64\n",
      " 7   length        1500 non-null   float64\n",
      "dtypes: bool(1), float64(6), int64(1)\n",
      "memory usage: 83.6 KB\n"
     ]
    },
    {
     "data": {
      "text/html": [
       "<div>\n",
       "<style scoped>\n",
       "    .dataframe tbody tr th:only-of-type {\n",
       "        vertical-align: middle;\n",
       "    }\n",
       "\n",
       "    .dataframe tbody tr th {\n",
       "        vertical-align: top;\n",
       "    }\n",
       "\n",
       "    .dataframe thead th {\n",
       "        text-align: right;\n",
       "    }\n",
       "</style>\n",
       "<table border=\"1\" class=\"dataframe\">\n",
       "  <thead>\n",
       "    <tr style=\"text-align: right;\">\n",
       "      <th></th>\n",
       "      <th>count</th>\n",
       "      <th>mean</th>\n",
       "      <th>std</th>\n",
       "      <th>min</th>\n",
       "      <th>25%</th>\n",
       "      <th>50%</th>\n",
       "      <th>75%</th>\n",
       "      <th>max</th>\n",
       "    </tr>\n",
       "  </thead>\n",
       "  <tbody>\n",
       "    <tr>\n",
       "      <th>Unnamed: 0</th>\n",
       "      <td>1500.0</td>\n",
       "      <td>749.500000</td>\n",
       "      <td>433.157015</td>\n",
       "      <td>0.00</td>\n",
       "      <td>374.75</td>\n",
       "      <td>749.50</td>\n",
       "      <td>1124.25</td>\n",
       "      <td>1499.00</td>\n",
       "    </tr>\n",
       "    <tr>\n",
       "      <th>diagonal</th>\n",
       "      <td>1500.0</td>\n",
       "      <td>171.958440</td>\n",
       "      <td>0.305195</td>\n",
       "      <td>171.04</td>\n",
       "      <td>171.75</td>\n",
       "      <td>171.96</td>\n",
       "      <td>172.17</td>\n",
       "      <td>173.01</td>\n",
       "    </tr>\n",
       "    <tr>\n",
       "      <th>height_left</th>\n",
       "      <td>1500.0</td>\n",
       "      <td>104.029533</td>\n",
       "      <td>0.299462</td>\n",
       "      <td>103.14</td>\n",
       "      <td>103.82</td>\n",
       "      <td>104.04</td>\n",
       "      <td>104.23</td>\n",
       "      <td>104.88</td>\n",
       "    </tr>\n",
       "    <tr>\n",
       "      <th>height_right</th>\n",
       "      <td>1500.0</td>\n",
       "      <td>103.920307</td>\n",
       "      <td>0.325627</td>\n",
       "      <td>102.82</td>\n",
       "      <td>103.71</td>\n",
       "      <td>103.92</td>\n",
       "      <td>104.15</td>\n",
       "      <td>104.95</td>\n",
       "    </tr>\n",
       "    <tr>\n",
       "      <th>margin_low</th>\n",
       "      <td>1500.0</td>\n",
       "      <td>4.483475</td>\n",
       "      <td>0.659632</td>\n",
       "      <td>2.98</td>\n",
       "      <td>4.02</td>\n",
       "      <td>4.31</td>\n",
       "      <td>4.87</td>\n",
       "      <td>6.90</td>\n",
       "    </tr>\n",
       "    <tr>\n",
       "      <th>margin_up</th>\n",
       "      <td>1500.0</td>\n",
       "      <td>3.151473</td>\n",
       "      <td>0.231813</td>\n",
       "      <td>2.27</td>\n",
       "      <td>2.99</td>\n",
       "      <td>3.14</td>\n",
       "      <td>3.31</td>\n",
       "      <td>3.91</td>\n",
       "    </tr>\n",
       "    <tr>\n",
       "      <th>length</th>\n",
       "      <td>1500.0</td>\n",
       "      <td>112.678500</td>\n",
       "      <td>0.872730</td>\n",
       "      <td>109.49</td>\n",
       "      <td>112.03</td>\n",
       "      <td>112.96</td>\n",
       "      <td>113.34</td>\n",
       "      <td>114.44</td>\n",
       "    </tr>\n",
       "  </tbody>\n",
       "</table>\n",
       "</div>"
      ],
      "text/plain": [
       "               count        mean         std     min     25%     50%      75%  \\\n",
       "Unnamed: 0    1500.0  749.500000  433.157015    0.00  374.75  749.50  1124.25   \n",
       "diagonal      1500.0  171.958440    0.305195  171.04  171.75  171.96   172.17   \n",
       "height_left   1500.0  104.029533    0.299462  103.14  103.82  104.04   104.23   \n",
       "height_right  1500.0  103.920307    0.325627  102.82  103.71  103.92   104.15   \n",
       "margin_low    1500.0    4.483475    0.659632    2.98    4.02    4.31     4.87   \n",
       "margin_up     1500.0    3.151473    0.231813    2.27    2.99    3.14     3.31   \n",
       "length        1500.0  112.678500    0.872730  109.49  112.03  112.96   113.34   \n",
       "\n",
       "                  max  \n",
       "Unnamed: 0    1499.00  \n",
       "diagonal       173.01  \n",
       "height_left    104.88  \n",
       "height_right   104.95  \n",
       "margin_low       6.90  \n",
       "margin_up        3.91  \n",
       "length         114.44  "
      ]
     },
     "metadata": {},
     "output_type": "display_data"
    },
    {
     "data": {
      "text/html": [
       "<div>\n",
       "<style scoped>\n",
       "    .dataframe tbody tr th:only-of-type {\n",
       "        vertical-align: middle;\n",
       "    }\n",
       "\n",
       "    .dataframe tbody tr th {\n",
       "        vertical-align: top;\n",
       "    }\n",
       "\n",
       "    .dataframe thead th {\n",
       "        text-align: right;\n",
       "    }\n",
       "</style>\n",
       "<table border=\"1\" class=\"dataframe\">\n",
       "  <thead>\n",
       "    <tr style=\"text-align: right;\">\n",
       "      <th></th>\n",
       "      <th>Unnamed: 0</th>\n",
       "      <th>is_genuine</th>\n",
       "      <th>diagonal</th>\n",
       "      <th>height_left</th>\n",
       "      <th>height_right</th>\n",
       "      <th>margin_low</th>\n",
       "      <th>margin_up</th>\n",
       "      <th>length</th>\n",
       "    </tr>\n",
       "  </thead>\n",
       "  <tbody>\n",
       "    <tr>\n",
       "      <th>0</th>\n",
       "      <td>0</td>\n",
       "      <td>True</td>\n",
       "      <td>171.81</td>\n",
       "      <td>104.86</td>\n",
       "      <td>104.95</td>\n",
       "      <td>4.52</td>\n",
       "      <td>2.89</td>\n",
       "      <td>112.83</td>\n",
       "    </tr>\n",
       "    <tr>\n",
       "      <th>1</th>\n",
       "      <td>1</td>\n",
       "      <td>True</td>\n",
       "      <td>171.46</td>\n",
       "      <td>103.36</td>\n",
       "      <td>103.66</td>\n",
       "      <td>3.77</td>\n",
       "      <td>2.99</td>\n",
       "      <td>113.09</td>\n",
       "    </tr>\n",
       "    <tr>\n",
       "      <th>2</th>\n",
       "      <td>2</td>\n",
       "      <td>True</td>\n",
       "      <td>172.69</td>\n",
       "      <td>104.48</td>\n",
       "      <td>103.50</td>\n",
       "      <td>4.40</td>\n",
       "      <td>2.94</td>\n",
       "      <td>113.16</td>\n",
       "    </tr>\n",
       "    <tr>\n",
       "      <th>3</th>\n",
       "      <td>3</td>\n",
       "      <td>True</td>\n",
       "      <td>171.36</td>\n",
       "      <td>103.91</td>\n",
       "      <td>103.94</td>\n",
       "      <td>3.62</td>\n",
       "      <td>3.01</td>\n",
       "      <td>113.51</td>\n",
       "    </tr>\n",
       "    <tr>\n",
       "      <th>4</th>\n",
       "      <td>4</td>\n",
       "      <td>True</td>\n",
       "      <td>171.73</td>\n",
       "      <td>104.28</td>\n",
       "      <td>103.46</td>\n",
       "      <td>4.04</td>\n",
       "      <td>3.48</td>\n",
       "      <td>112.54</td>\n",
       "    </tr>\n",
       "  </tbody>\n",
       "</table>\n",
       "</div>"
      ],
      "text/plain": [
       "   Unnamed: 0  is_genuine  diagonal  height_left  height_right  margin_low  \\\n",
       "0           0        True    171.81       104.86        104.95        4.52   \n",
       "1           1        True    171.46       103.36        103.66        3.77   \n",
       "2           2        True    172.69       104.48        103.50        4.40   \n",
       "3           3        True    171.36       103.91        103.94        3.62   \n",
       "4           4        True    171.73       104.28        103.46        4.04   \n",
       "\n",
       "   margin_up  length  \n",
       "0       2.89  112.83  \n",
       "1       2.99  113.09  \n",
       "2       2.94  113.16  \n",
       "3       3.01  113.51  \n",
       "4       3.48  112.54  "
      ]
     },
     "metadata": {},
     "output_type": "display_data"
    },
    {
     "name": "stdout",
     "output_type": "stream",
     "text": [
      "Test d'unicité sur les colonnes de DataFrame :\n"
     ]
    },
    {
     "data": {
      "text/plain": [
       "'« Unnamed: 0 » est unique, et pourrait être une clé primaire.'"
      ]
     },
     "metadata": {},
     "output_type": "display_data"
    },
    {
     "name": "stdout",
     "output_type": "stream",
     "text": [
      "Compter les nulles pour chaque colonne :\n"
     ]
    },
    {
     "data": {
      "text/plain": [
       "Unnamed: 0      0\n",
       "is_genuine      0\n",
       "diagonal        0\n",
       "height_left     0\n",
       "height_right    0\n",
       "margin_low      0\n",
       "margin_up       0\n",
       "length          0\n",
       "dtype: int64"
      ]
     },
     "metadata": {},
     "output_type": "display_data"
    },
    {
     "name": "stdout",
     "output_type": "stream",
     "text": [
      "Compter les duplicates:\n"
     ]
    },
    {
     "data": {
      "text/plain": [
       "0"
      ]
     },
     "metadata": {},
     "output_type": "display_data"
    }
   ],
   "source": [
    "# importation du dataFrame\n",
    "Df_billets = pd.read_csv(\"Df_billets_final.csv\", sep=\";\")\n",
    "\n",
    "# visualisation du dataFrame\n",
    "analyseDataFrame(Df_billets) \n"
   ]
  },
  {
   "cell_type": "markdown",
   "id": "c15112ad",
   "metadata": {},
   "source": [
    "<div>\n",
    "<h3 style=\"margin: auto; padding: 10px;color: pink\">\n",
    "            2.2 - Initialisation du DataFrame \n",
    "        </h3>\n",
    "    </div>"
   ]
  },
  {
   "cell_type": "code",
   "execution_count": 4,
   "id": "badb6848",
   "metadata": {},
   "outputs": [
    {
     "data": {
      "text/html": [
       "<div>\n",
       "<style scoped>\n",
       "    .dataframe tbody tr th:only-of-type {\n",
       "        vertical-align: middle;\n",
       "    }\n",
       "\n",
       "    .dataframe tbody tr th {\n",
       "        vertical-align: top;\n",
       "    }\n",
       "\n",
       "    .dataframe thead th {\n",
       "        text-align: right;\n",
       "    }\n",
       "</style>\n",
       "<table border=\"1\" class=\"dataframe\">\n",
       "  <thead>\n",
       "    <tr style=\"text-align: right;\">\n",
       "      <th></th>\n",
       "      <th>is_genuine</th>\n",
       "      <th>diagonal</th>\n",
       "      <th>height_left</th>\n",
       "      <th>height_right</th>\n",
       "      <th>margin_low</th>\n",
       "      <th>margin_up</th>\n",
       "      <th>length</th>\n",
       "    </tr>\n",
       "  </thead>\n",
       "  <tbody>\n",
       "    <tr>\n",
       "      <th>0</th>\n",
       "      <td>True</td>\n",
       "      <td>171.81</td>\n",
       "      <td>104.86</td>\n",
       "      <td>104.95</td>\n",
       "      <td>4.52</td>\n",
       "      <td>2.89</td>\n",
       "      <td>112.83</td>\n",
       "    </tr>\n",
       "    <tr>\n",
       "      <th>1</th>\n",
       "      <td>True</td>\n",
       "      <td>171.46</td>\n",
       "      <td>103.36</td>\n",
       "      <td>103.66</td>\n",
       "      <td>3.77</td>\n",
       "      <td>2.99</td>\n",
       "      <td>113.09</td>\n",
       "    </tr>\n",
       "    <tr>\n",
       "      <th>2</th>\n",
       "      <td>True</td>\n",
       "      <td>172.69</td>\n",
       "      <td>104.48</td>\n",
       "      <td>103.50</td>\n",
       "      <td>4.40</td>\n",
       "      <td>2.94</td>\n",
       "      <td>113.16</td>\n",
       "    </tr>\n",
       "    <tr>\n",
       "      <th>3</th>\n",
       "      <td>True</td>\n",
       "      <td>171.36</td>\n",
       "      <td>103.91</td>\n",
       "      <td>103.94</td>\n",
       "      <td>3.62</td>\n",
       "      <td>3.01</td>\n",
       "      <td>113.51</td>\n",
       "    </tr>\n",
       "    <tr>\n",
       "      <th>4</th>\n",
       "      <td>True</td>\n",
       "      <td>171.73</td>\n",
       "      <td>104.28</td>\n",
       "      <td>103.46</td>\n",
       "      <td>4.04</td>\n",
       "      <td>3.48</td>\n",
       "      <td>112.54</td>\n",
       "    </tr>\n",
       "  </tbody>\n",
       "</table>\n",
       "</div>"
      ],
      "text/plain": [
       "   is_genuine  diagonal  height_left  height_right  margin_low  margin_up  \\\n",
       "0        True    171.81       104.86        104.95        4.52       2.89   \n",
       "1        True    171.46       103.36        103.66        3.77       2.99   \n",
       "2        True    172.69       104.48        103.50        4.40       2.94   \n",
       "3        True    171.36       103.91        103.94        3.62       3.01   \n",
       "4        True    171.73       104.28        103.46        4.04       3.48   \n",
       "\n",
       "   length  \n",
       "0  112.83  \n",
       "1  113.09  \n",
       "2  113.16  \n",
       "3  113.51  \n",
       "4  112.54  "
      ]
     },
     "execution_count": 4,
     "metadata": {},
     "output_type": "execute_result"
    }
   ],
   "source": [
    "# Suppression de la colonne \"Unnamed\"\n",
    "Df_billets = Df_billets.loc[:, ~Df_billets.columns.str.contains(\"^Unnamed\")]\n",
    "Df_billets.head()\n"
   ]
  },
  {
   "cell_type": "markdown",
   "id": "86515b13",
   "metadata": {},
   "source": [
    "---\n",
    "<div>\n",
    "    <div style=\"background-color: pink;\" id=\"partie3\">\n",
    "        <h2 style=\"margin: auto; padding: 20px; color:#fff;margin-left: 4.5em; text-indent: -4.5em\">\n",
    "            Partie 3 - Régression Logistique avec la librairie Statsmodels\n",
    "        </h2>\n",
    "        <font size=\"-0\"><a href=\"#partie0\">  🔝  </a></font>\n",
    "    </div>\n",
    "</div>"
   ]
  },
  {
   "cell_type": "markdown",
   "id": "79820f7f",
   "metadata": {},
   "source": [
    "### Pour analyser une variable binomial (dont les valeurs seraient VRAI/FAUX, 0/1, ou encore OUI/NON) en fonction d'une variable explicative quantitative (et potentiellement qualitatives), on peut utiliser une régression logistique. La régression logistique est une méthode de classification supervisée.\n",
    "### La fonction glm (pour generalized linear models soit modèle linéaire généralisé en français) permet de calculer une grande variété de modèles statistiques. La régression logistique ordinaire correspond au modèle logit de la famille des modèles binomiaux, ce que l’on indique à glm avec l’argument family=binomial(logit).\n"
   ]
  },
  {
   "cell_type": "code",
   "execution_count": 5,
   "id": "9ae309ea",
   "metadata": {},
   "outputs": [
    {
     "name": "stdout",
     "output_type": "stream",
     "text": [
      "(1200, 7)\n",
      "(300, 7)\n"
     ]
    }
   ],
   "source": [
    "Df_train, Df_test = train_test_split(Df_billets, test_size=0.2, random_state=0, stratify = Df_billets['is_genuine'])\n",
    "print(Df_train.shape)\n",
    "print(Df_test.shape)\n"
   ]
  },
  {
   "cell_type": "code",
   "execution_count": 6,
   "id": "65b7e903",
   "metadata": {},
   "outputs": [
    {
     "name": "stdout",
     "output_type": "stream",
     "text": [
      "                             Generalized Linear Model Regression Results                             \n",
      "=====================================================================================================\n",
      "Dep. Variable:     ['is_genuine[False]', 'is_genuine[True]']   No. Observations:                 1200\n",
      "Model:                                                   GLM   Df Residuals:                     1193\n",
      "Model Family:                                       Binomial   Df Model:                            6\n",
      "Link Function:                                         Logit   Scale:                          1.0000\n",
      "Method:                                                 IRLS   Log-Likelihood:                -37.389\n",
      "Date:                                       Tue, 20 Dec 2022   Deviance:                       74.778\n",
      "Time:                                               15:27:08   Pearson chi2:                 2.01e+03\n",
      "No. Iterations:                                           10   Pseudo R-squ. (CS):             0.7020\n",
      "Covariance Type:                                   nonrobust                                         \n",
      "================================================================================\n",
      "                   coef    std err          z      P>|z|      [0.025      0.975]\n",
      "--------------------------------------------------------------------------------\n",
      "Intercept      166.5721    250.502      0.665      0.506    -324.403     657.548\n",
      "diagonal        -0.1818      1.115     -0.163      0.870      -2.366       2.003\n",
      "height_left      2.1763      1.212      1.796      0.072      -0.199       4.551\n",
      "height_right     1.9214      1.096      1.754      0.079      -0.226       4.069\n",
      "margin_low       5.4958      0.991      5.545      0.000       3.553       7.438\n",
      "margin_up        9.2410      2.162      4.275      0.000       5.004      13.478\n",
      "length          -5.4798      0.822     -6.668      0.000      -7.091      -3.869\n",
      "================================================================================\n"
     ]
    }
   ],
   "source": [
    "reg_log = smf.glm(\"is_genuine~diagonal+height_left+height_right+margin_low+margin_up+length\",\n",
    "                   data=Df_train, family=sm.families.Binomial()).fit()\n",
    "print(reg_log.summary())\n"
   ]
  },
  {
   "cell_type": "markdown",
   "id": "bc3fdacf",
   "metadata": {},
   "source": [
    "Certaines des variables obtenues ont des p-valeurs qui sont inférieures au niveau de test de 5 %, ce qui nous indique qu'elles sont bien significatives. La variable diagonal n'est pas en dessous de ce seuil.\n",
    "\n",
    "On peut donc passer sur une procédure de sélection en retirant la variable non significative."
   ]
  },
  {
   "cell_type": "code",
   "execution_count": 7,
   "id": "1a069468",
   "metadata": {},
   "outputs": [
    {
     "data": {
      "text/html": [
       "<div>\n",
       "<style scoped>\n",
       "    .dataframe tbody tr th:only-of-type {\n",
       "        vertical-align: middle;\n",
       "    }\n",
       "\n",
       "    .dataframe tbody tr th {\n",
       "        vertical-align: top;\n",
       "    }\n",
       "\n",
       "    .dataframe thead th {\n",
       "        text-align: right;\n",
       "    }\n",
       "</style>\n",
       "<table border=\"1\" class=\"dataframe\">\n",
       "  <thead>\n",
       "    <tr style=\"text-align: right;\">\n",
       "      <th></th>\n",
       "      <th>predict</th>\n",
       "      <th>proba_faux</th>\n",
       "      <th>Billet</th>\n",
       "    </tr>\n",
       "  </thead>\n",
       "  <tbody>\n",
       "    <tr>\n",
       "      <th>347</th>\n",
       "      <td>0</td>\n",
       "      <td>0.140796</td>\n",
       "      <td>Faux</td>\n",
       "    </tr>\n",
       "    <tr>\n",
       "      <th>451</th>\n",
       "      <td>0</td>\n",
       "      <td>0.065766</td>\n",
       "      <td>Faux</td>\n",
       "    </tr>\n",
       "    <tr>\n",
       "      <th>999</th>\n",
       "      <td>1</td>\n",
       "      <td>99.999811</td>\n",
       "      <td>Vrai</td>\n",
       "    </tr>\n",
       "    <tr>\n",
       "      <th>677</th>\n",
       "      <td>0</td>\n",
       "      <td>3.951461</td>\n",
       "      <td>Faux</td>\n",
       "    </tr>\n",
       "    <tr>\n",
       "      <th>690</th>\n",
       "      <td>0</td>\n",
       "      <td>0.010757</td>\n",
       "      <td>Faux</td>\n",
       "    </tr>\n",
       "    <tr>\n",
       "      <th>238</th>\n",
       "      <td>0</td>\n",
       "      <td>0.000522</td>\n",
       "      <td>Faux</td>\n",
       "    </tr>\n",
       "    <tr>\n",
       "      <th>676</th>\n",
       "      <td>0</td>\n",
       "      <td>0.005879</td>\n",
       "      <td>Faux</td>\n",
       "    </tr>\n",
       "    <tr>\n",
       "      <th>815</th>\n",
       "      <td>0</td>\n",
       "      <td>0.327386</td>\n",
       "      <td>Faux</td>\n",
       "    </tr>\n",
       "    <tr>\n",
       "      <th>1441</th>\n",
       "      <td>1</td>\n",
       "      <td>99.997933</td>\n",
       "      <td>Vrai</td>\n",
       "    </tr>\n",
       "    <tr>\n",
       "      <th>1059</th>\n",
       "      <td>1</td>\n",
       "      <td>99.864815</td>\n",
       "      <td>Vrai</td>\n",
       "    </tr>\n",
       "  </tbody>\n",
       "</table>\n",
       "</div>"
      ],
      "text/plain": [
       "      predict  proba_faux Billet\n",
       "347         0    0.140796   Faux\n",
       "451         0    0.065766   Faux\n",
       "999         1   99.999811   Vrai\n",
       "677         0    3.951461   Faux\n",
       "690         0    0.010757   Faux\n",
       "238         0    0.000522   Faux\n",
       "676         0    0.005879   Faux\n",
       "815         0    0.327386   Faux\n",
       "1441        1   99.997933   Vrai\n",
       "1059        1   99.864815   Vrai"
      ]
     },
     "execution_count": 7,
     "metadata": {},
     "output_type": "execute_result"
    }
   ],
   "source": [
    "x_test = Df_test[[\"diagonal\", \"height_left\", \"height_right\", \"margin_low\", \"margin_up\", \"length\"]]\n",
    "y_test = Df_test[[\"is_genuine\"]]\n",
    "# performing predictions on the test datdaset\n",
    "y_predict = reg_log.predict(x_test)\n",
    "y_pred = round(y_predict).astype(int) # convertir proba to 1 and 0 : seuil 5O%\n",
    "predict_df = pd.DataFrame(columns = [\"predict\", \"proba_faux\", \"Billet\" ])\n",
    "predict_df[\"proba_faux\"] = y_predict * 100\n",
    "predict_df[\"predict\"] = y_pred\n",
    "predict_df.loc[(predict_df[\"predict\"] == 1), \"Billet\"] = \"Vrai\"\n",
    "predict_df.loc[(predict_df[\"predict\"] == 0), \"Billet\"] = \"Faux\"\n",
    "predict_df.head(10)\n"
   ]
  },
  {
   "cell_type": "code",
   "execution_count": 8,
   "id": "1f432513",
   "metadata": {},
   "outputs": [
    {
     "data": {
      "text/html": [
       "<div>\n",
       "<style scoped>\n",
       "    .dataframe tbody tr th:only-of-type {\n",
       "        vertical-align: middle;\n",
       "    }\n",
       "\n",
       "    .dataframe tbody tr th {\n",
       "        vertical-align: top;\n",
       "    }\n",
       "\n",
       "    .dataframe thead th {\n",
       "        text-align: right;\n",
       "    }\n",
       "</style>\n",
       "<table border=\"1\" class=\"dataframe\">\n",
       "  <thead>\n",
       "    <tr style=\"text-align: right;\">\n",
       "      <th></th>\n",
       "      <th>is_genuine</th>\n",
       "    </tr>\n",
       "  </thead>\n",
       "  <tbody>\n",
       "    <tr>\n",
       "      <th>347</th>\n",
       "      <td>True</td>\n",
       "    </tr>\n",
       "    <tr>\n",
       "      <th>451</th>\n",
       "      <td>True</td>\n",
       "    </tr>\n",
       "    <tr>\n",
       "      <th>999</th>\n",
       "      <td>False</td>\n",
       "    </tr>\n",
       "    <tr>\n",
       "      <th>677</th>\n",
       "      <td>True</td>\n",
       "    </tr>\n",
       "    <tr>\n",
       "      <th>690</th>\n",
       "      <td>True</td>\n",
       "    </tr>\n",
       "    <tr>\n",
       "      <th>238</th>\n",
       "      <td>True</td>\n",
       "    </tr>\n",
       "    <tr>\n",
       "      <th>676</th>\n",
       "      <td>True</td>\n",
       "    </tr>\n",
       "    <tr>\n",
       "      <th>815</th>\n",
       "      <td>True</td>\n",
       "    </tr>\n",
       "    <tr>\n",
       "      <th>1441</th>\n",
       "      <td>False</td>\n",
       "    </tr>\n",
       "    <tr>\n",
       "      <th>1059</th>\n",
       "      <td>False</td>\n",
       "    </tr>\n",
       "  </tbody>\n",
       "</table>\n",
       "</div>"
      ],
      "text/plain": [
       "      is_genuine\n",
       "347         True\n",
       "451         True\n",
       "999        False\n",
       "677         True\n",
       "690         True\n",
       "238         True\n",
       "676         True\n",
       "815         True\n",
       "1441       False\n",
       "1059       False"
      ]
     },
     "execution_count": 8,
     "metadata": {},
     "output_type": "execute_result"
    }
   ],
   "source": [
    "y_test.head(10)\n"
   ]
  },
  {
   "cell_type": "markdown",
   "id": "45fac060",
   "metadata": {},
   "source": [
    "---\n",
    "<div>\n",
    "    <div style=\"background-color: pink;\" id=\"partie4\">\n",
    "        <h2 style=\"margin: auto; padding: 20px; color:#fff;margin-left: 4.5em; text-indent: -4.5em\">\n",
    "            Partie 4 - Régression Logistique avec la librairie Sklearn\n",
    "        </h2>\n",
    "        <font size=\"-0\"><a href=\"#partie0\">  🔝  </a></font>\n",
    "    </div>\n",
    "</div>"
   ]
  },
  {
   "cell_type": "markdown",
   "id": "f8862ed5",
   "metadata": {},
   "source": [
    "<div>\n",
    "<h3 style=\"margin: auto; padding: 10px;color: pink\">\n",
    "            4.1 - Train Test Split \n",
    "        </h3>\n",
    "    </div>"
   ]
  },
  {
   "cell_type": "code",
   "execution_count": 9,
   "id": "0b1f81a7",
   "metadata": {},
   "outputs": [],
   "source": [
    "# Attribution des variables explicatives pour \"X_df\" et de la variable binaire pour \"Y_df\"\n",
    "X_df = Df_billets [[\"diagonal\", \"height_left\", \"height_right\", \"margin_low\", \"margin_up\", \"length\"]]\n",
    "y_df = Df_billets [[\"is_genuine\"]]\n"
   ]
  },
  {
   "cell_type": "code",
   "execution_count": 10,
   "id": "50316587",
   "metadata": {},
   "outputs": [
    {
     "name": "stdout",
     "output_type": "stream",
     "text": [
      "X_train set : (1200, 6)\n",
      "y_train set : (1200, 1)\n",
      "Vrai_Train set : (800, 1)\n",
      "Faux_Train set : (400, 1)\n",
      "Pourcentage Vrai billets: 67.0 %\n",
      "Pourcentage Faux billets: 33.0 %\n"
     ]
    }
   ],
   "source": [
    "# Divise le dataFrame entre Train set et Test set\n",
    "X_train, X_test, y_train, y_test = train_test_split(X_df, y_df, test_size=0.2, random_state=0, stratify = y_df)\n",
    "\n",
    "# Visualisation de X_train et de y_train\n",
    "print(\"X_train set :\", X_train.shape)\n",
    "print(\"y_train set :\", y_train.shape)\n",
    "print(\"Vrai_Train set :\", y_train[y_train[\"is_genuine\"] == 1].shape)\n",
    "print(\"Faux_Train set :\",y_train[y_train[\"is_genuine\"] == 0].shape)\n",
    "Pourcentage_Train_Vrai = round(y_train[y_train[\"is_genuine\"] == 1].shape[0] / X_train.shape[0],2)*100\n",
    "print(\"Pourcentage Vrai billets:\", Pourcentage_Train_Vrai, \"%\")\n",
    "Pourcentage_Train_Faux = round(y_train[y_train[\"is_genuine\"] == 0].shape[0] / X_train.shape[0],2)*100\n",
    "print(\"Pourcentage Faux billets:\", Pourcentage_Train_Faux, \"%\")\n",
    "\n"
   ]
  },
  {
   "cell_type": "code",
   "execution_count": 11,
   "id": "4bb8ee05",
   "metadata": {},
   "outputs": [
    {
     "name": "stdout",
     "output_type": "stream",
     "text": [
      "X_test set : (300, 6)\n",
      "y_test set : (300, 1)\n",
      "Vrai_Test set : (200, 1)\n",
      "Faux_Test set : (100, 1)\n",
      "Pourcentage Vrai billets: 67.0 %\n",
      "Pourcentage Faux billets: 33.0 %\n"
     ]
    }
   ],
   "source": [
    "# Visualisation de X_test et de y_test\n",
    "print(\"X_test set :\", X_test.shape)\n",
    "print(\"y_test set :\", y_test.shape)\n",
    "print(\"Vrai_Test set :\", y_test[y_test[\"is_genuine\"] == 1].shape)\n",
    "print(\"Faux_Test set :\",y_test[y_test[\"is_genuine\"] == 0].shape)\n",
    "Pourcentage_Test_Vrai = round(y_test[y_test[\"is_genuine\"] == 1].shape[0] / X_test.shape[0],2)*100\n",
    "print(\"Pourcentage Vrai billets:\", Pourcentage_Train_Vrai, \"%\")\n",
    "Pourcentage_Test_Faux = round(y_test[y_test[\"is_genuine\"] == 0].shape[0] / X_test.shape[0],2)*100\n",
    "print(\"Pourcentage Faux billets:\", Pourcentage_Test_Faux, \"%\")\n"
   ]
  },
  {
   "cell_type": "code",
   "execution_count": 12,
   "id": "fa25f56b",
   "metadata": {},
   "outputs": [],
   "source": [
    "# Instancie le modèle\n",
    "logreg = LogisticRegression(random_state=16)\n"
   ]
  },
  {
   "cell_type": "code",
   "execution_count": 13,
   "id": "c166ff8c",
   "metadata": {},
   "outputs": [],
   "source": [
    "# Adapte le modèle\n",
    "logreg.fit(X_train, y_train.values.ravel())\n",
    "\n",
    "y_pred = logreg.predict(X_test)\n"
   ]
  },
  {
   "cell_type": "markdown",
   "id": "52f10d43",
   "metadata": {},
   "source": [
    "<div>\n",
    "<h3 style=\"margin: auto; padding: 10px;color: pink\">\n",
    "            4.2 - Matrice de confusion \n",
    "        </h3>\n",
    "    </div>"
   ]
  },
  {
   "cell_type": "code",
   "execution_count": 14,
   "id": "9afa95fd",
   "metadata": {},
   "outputs": [
    {
     "data": {
      "text/plain": [
       "array([[ 98,   2],\n",
       "       [  0, 200]])"
      ]
     },
     "execution_count": 14,
     "metadata": {},
     "output_type": "execute_result"
    }
   ],
   "source": [
    "# Calcul la matrice de confusion pour évaluer la précision d'une classification\n",
    "cnf_matrix = metrics.confusion_matrix(y_test, y_pred)\n",
    "cnf_matrix\n"
   ]
  },
  {
   "cell_type": "code",
   "execution_count": 15,
   "id": "a0a0162e",
   "metadata": {},
   "outputs": [
    {
     "data": {
      "text/plain": [
       "Text(0.5, 257.44, 'Predicted label')"
      ]
     },
     "execution_count": 15,
     "metadata": {},
     "output_type": "execute_result"
    },
    {
     "data": {
      "image/png": "[encoded data removed]",
      "text/plain": [
       "<Figure size 432x288 with 2 Axes>"
      ]
     },
     "metadata": {
      "needs_background": "light"
     },
     "output_type": "display_data"
    }
   ],
   "source": [
    "# Verrification de la classification: Matrice de confusion:\n",
    "class_names=[0,1] # name  of classes\n",
    "fig, ax = plt.subplots()\n",
    "tick_marks = np.arange(len(class_names))\n",
    "plt.xticks(tick_marks, class_names)\n",
    "plt.yticks(tick_marks, class_names)\n",
    "# create heatmap\n",
    "sns.heatmap(pd.DataFrame(cnf_matrix), annot=True, cmap=\"YlGnBu\" ,fmt='g')\n",
    "ax.xaxis.set_label_position(\"top\")\n",
    "plt.tight_layout()\n",
    "plt.title(\"Confusion matrix\", y=1.1)\n",
    "plt.ylabel(\"Actual label\")\n",
    "plt.xlabel(\"Predicted label\")\n"
   ]
  },
  {
   "cell_type": "markdown",
   "id": "062c1a02",
   "metadata": {},
   "source": [
    "<div>\n",
    "<h3 style=\"margin: auto; padding: 10px;color: pink\">\n",
    "            4.3 - Test accuracy\n",
    "    </div>"
   ]
  },
  {
   "cell_type": "code",
   "execution_count": 16,
   "id": "fa212e57",
   "metadata": {},
   "outputs": [
    {
     "name": "stdout",
     "output_type": "stream",
     "text": [
      "Accuracy:  99.333 %\n",
      "Precision: 0.9900990099009901\n",
      "Recall: 1.0\n",
      "              precision    recall  f1-score   support\n",
      "\n",
      "       False   1.000000  0.980000  0.989899       100\n",
      "        True   0.990099  1.000000  0.995025       200\n",
      "\n",
      "    accuracy                       0.993333       300\n",
      "   macro avg   0.995050  0.990000  0.992462       300\n",
      "weighted avg   0.993399  0.993333  0.993316       300\n",
      "\n"
     ]
    }
   ],
   "source": [
    "# Voir : https://www.lovelyanalytics.com/2020/05/26/accuracy-recall-precision/\n",
    "test_accuracy = accuracy_score(y_test, y_pred)*100\n",
    "print(\"Accuracy:  %.3f %%\" % test_accuracy)\n",
    "print(\"Precision:\",precision_score(y_test, y_pred))\n",
    "print(\"Recall:\",recall_score(y_test, y_pred))\n",
    "print(classification_report(y_test, y_pred, digits=6))\n"
   ]
  },
  {
   "cell_type": "markdown",
   "id": "d05e4c9e",
   "metadata": {},
   "source": [
    "---\n",
    "<div>\n",
    "    <div style=\"background-color: pink;\" id=\"partie5\">\n",
    "        <h2 style=\"margin: auto; padding: 20px; color:#fff;margin-left: 4.5em; text-indent: -4.5em\">\n",
    "            Partie 5 - Courbe ROC\n",
    "        </h2>\n",
    "        <font size=\"-0\"><a href=\"#partie0\">  🔝  </a></font>\n",
    "    </div>\n",
    "</div>"
   ]
  },
  {
   "cell_type": "markdown",
   "id": "685a7f2d",
   "metadata": {},
   "source": [
    "### La courbe roc permet de déterminer et de comparer les performances diagnostiques de plusieurs tests à l'aide de l'évaluation des aires sous la courbe. "
   ]
  },
  {
   "cell_type": "code",
   "execution_count": 17,
   "id": "e9c9fb71",
   "metadata": {},
   "outputs": [
    {
     "data": {
      "image/png": "[encoded data removed]",
      "text/plain": [
       "<Figure size 432x288 with 1 Axes>"
      ]
     },
     "metadata": {
      "needs_background": "light"
     },
     "output_type": "display_data"
    }
   ],
   "source": [
    "y_pred_proba = logreg.predict_proba(X_test)[::,1]\n",
    "fpr, tpr, _ = metrics.roc_curve(y_test,  y_pred_proba)\n",
    "auc = metrics.roc_auc_score(y_test, y_pred_proba)\n",
    "plt.plot(fpr,tpr,color=\"red\", label=\"ROC, auc=\"+str(auc))\n",
    "plt.plot([0, 1], [0, 1], color=\"green\", linestyle='--')\n",
    "plt.legend(loc=4)\n",
    "plt.xlabel(\"Taux de faux positifs\")\n",
    "plt.ylabel(\"Taux de vrais positifs\")\n",
    "plt.title(\"Courbe ROC\")\n",
    "plt.show()\n"
   ]
  },
  {
   "cell_type": "markdown",
   "id": "366e3ec8",
   "metadata": {},
   "source": [
    "---\n",
    "<div>\n",
    "    <div style=\"background-color: pink;\" id=\"Sauvegarde\">\n",
    "        <h2 style=\"margin: auto; padding: 20px; color:#fff;margin-left: 4.5em; text-indent: -4.5em\">\n",
    "            Sauvegarde du modèle Régression Logistique sur le disque\n",
    "        </h2>\n",
    "        <font size=\"-0\"><a href=\"#partie0\">  🔝  </a></font>\n",
    "    </div>\n",
    "</div>"
   ]
  },
  {
   "cell_type": "code",
   "execution_count": 18,
   "id": "d365c710",
   "metadata": {},
   "outputs": [],
   "source": [
    "# https://machinelearningmastery.com/save-load-machine-learning-models-python-scikit-learn/\n",
    "import pickle\n",
    "# Enregistre le modèle\n",
    "filename = \"finalized_model.pickle\"\n",
    "\n",
    "# dumps() - Cette fonction est appelée pour sérialiser une hiérarchie d'objets.\n",
    "pickle.dump(logreg, open(filename, \"wb\"))\n"
   ]
  },
  {
   "cell_type": "markdown",
   "id": "21aab8b9",
   "metadata": {},
   "source": [
    "---\n",
    "<div>\n",
    "    <div style=\"background-color: pink;\" id=\"Conclusion\">\n",
    "        <h2 style=\"margin: auto; padding: 20px; color:#fff;margin-left: 4.5em; text-indent: -4.5em\">\n",
    "            Conclusion\n",
    "        </h2>\n",
    "        <font size=\"-0\"><a href=\"#partie0\">  🔝  </a></font>\n",
    "    </div>\n",
    "</div>"
   ]
  },
  {
   "cell_type": "markdown",
   "id": "ecc4e746",
   "metadata": {},
   "source": [
    "### Nous avons pu voir deux types de regression logistique la première avec la librairie Statsmodels et la seconde avec la librairie Sklearn.\n",
    "### Le test d'accuracy nous indiquant une performance de 99,33% pour notre modèle avec la librairie Sklearn, nous choisirons donc d'effectuer la regression logistique sur notre jeux de données test avec Sklearn.\n",
    "### Le modèle de régression logistique est sauvegardé sur le disque avec la fonction \"dumps()\" du module \"pickle\" afin de réaliser l'étape finale qui est le test de l'algorithme.\n",
    "### La courbe de ROC ayant un marqueur à 1 soit 100% des individus on pu être séparés et classifiés."
   ]
  }
 ],
 "metadata": {
  "kernelspec": {
   "display_name": "Python 3 (ipykernel)",
   "language": "python",
   "name": "python3"
  },
  "language_info": {
   "codemirror_mode": {
    "name": "ipython",
    "version": 3
   },
   "file_extension": ".py",
   "mimetype": "text/x-python",
   "name": "python",
   "nbconvert_exporter": "python",
   "pygments_lexer": "ipython3",
   "version": "3.9.12"
  }
 },
 "nbformat": 4,
 "nbformat_minor": 5
}
